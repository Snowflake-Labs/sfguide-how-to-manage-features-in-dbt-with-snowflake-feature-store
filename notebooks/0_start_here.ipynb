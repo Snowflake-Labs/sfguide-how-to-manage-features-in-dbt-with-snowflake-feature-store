{
 "cells": [
  {
   "cell_type": "markdown",
   "id": "70cdcdfb-a40f-4b5a-9ae8-6768b097f65a",
   "metadata": {
    "collapsed": false,
    "name": "overview_md"
   },
   "source": [
    "# Manage features in DBT with Feature Store\n",
    "\n",
    "This notebook showcases the interoperation between DBT and Snowflake Feature Store. The source data is managed in Snowflake database, while the feature pipelines are managed and executed from DBT. The output is stored as feature tables in Snowflake. Then We read from the feature tables and register them as external Feature View. \n",
    "\n",
    "This demo requires DBT account."
   ]
  },
  {
   "cell_type": "markdown",
   "id": "76628c92-5f51-4562-86a1-dadc2aeb85c0",
   "metadata": {
    "collapsed": false,
    "name": "snowflake_connection_md"
   },
   "source": [
    "## Set up Snowflake connection"
   ]
  },
  {
   "cell_type": "code",
   "execution_count": 1,
   "id": "22427859-5cc8-43de-bdef-ebaa7ec33670",
   "metadata": {
    "collapsed": false,
    "language": "python",
    "name": "snowflake_connection"
   },
   "outputs": [],
   "source": [
    "from snowflake.snowpark.context import get_active_session\n",
    "session = get_active_session()\n",
    "\n",
    "# Add a query tag to the session. This helps with debugging and performance monitoring.\n",
    "session.query_tag = {\"origin\":\"sf_sit-is\", \"name\":\"aiml_notebooks_fs_with_dbt\", \"version\":{\"major\":1, \"minor\":0}, \"attributes\":{\"is_quickstart\":0, \"source\":\"notebook\"}}\n",
    "\n",
    "# Set session context \n",
    "session.use_role(\"FS_DBT_ROLE\") \n",
    "\n",
    "# Print the current role, warehouse, and database/schema\n",
    "print(f\"role: {session.get_current_role()} | WH: {session.get_current_warehouse()} | DB.SCHEMA: {session.get_fully_qualified_current_schema()}\")"
   ]
  },
  {
   "cell_type": "code",
   "execution_count": 2,
   "id": "510d1d12-e5c1-4078-884a-771cc7ea257d",
   "metadata": {
    "collapsed": false,
    "language": "python",
    "name": "constants"
   },
   "outputs": [
    {
     "data": {
      "text/plain": [
       "[Row(status='Schema FS_DBT_DEMO successfully created.')]"
      ]
     },
     "execution_count": 2,
     "metadata": {},
     "output_type": "execute_result"
    }
   ],
   "source": [
    "# database name where test data and feature store lives.\n",
    "# It is also referenced in schema.yaml in DBT.\n",
    "FS_DEMO_DB = session.get_current_database()\n",
    "# feature store (schema) name.\n",
    "# It is also referenced in in schema.yaml in DBT.\n",
    "FS_DEMO_SCHEMA = session.get_current_schema()"
   ]
  },
  {
   "cell_type": "markdown",
   "id": "320c79c9-d6aa-4d66-b270-8463a33f0d03",
   "metadata": {
    "name": "load_data_md"
   },
   "source": [
    "## Load source data\n",
    "\n",
    "This notebook will use public `fraud_transactions` data as source. It contains transaction data range between [2019-04-01, 2019-09-01). We will split this dataset into two parts based on its timestamp. The first part includes rows before 2019-07-01, the second part includes rows after 2019-07-01. We copy the first part into `CUSTOMER_TRANSACTIONS_FRAUD` table now. And will copy second part into same table later."
   ]
  },
  {
   "cell_type": "code",
   "execution_count": 3,
   "id": "2af11339-5f7d-4f76-b352-d495353b6136",
   "metadata": {
    "collapsed": false,
    "language": "python",
    "name": "load_data"
   },
   "outputs": [
    {
     "name": "stdout",
     "output_type": "stream",
     "text": [
      "New source table: SNOWML_FEATURE_STORE_DBT_DEMO.FS_DBT_DEMO.fraud_transactions.\n"
     ]
    },
    {
     "data": {
      "text/html": [
       "<div>\n",
       "<style scoped>\n",
       "    .dataframe tbody tr th:only-of-type {\n",
       "        vertical-align: middle;\n",
       "    }\n",
       "\n",
       "    .dataframe tbody tr th {\n",
       "        vertical-align: top;\n",
       "    }\n",
       "\n",
       "    .dataframe thead th {\n",
       "        text-align: right;\n",
       "    }\n",
       "</style>\n",
       "<table border=\"1\" class=\"dataframe\">\n",
       "  <thead>\n",
       "    <tr style=\"text-align: right;\">\n",
       "      <th></th>\n",
       "      <th>TRANSACTION_ID</th>\n",
       "      <th>TX_DATETIME</th>\n",
       "      <th>CUSTOMER_ID</th>\n",
       "      <th>TERMINAL_ID</th>\n",
       "      <th>TX_AMOUNT</th>\n",
       "      <th>TX_TIME_SECONDS</th>\n",
       "      <th>TX_TIME_DAYS</th>\n",
       "      <th>TX_FRAUD</th>\n",
       "      <th>TX_FRAUD_SCENARIO</th>\n",
       "    </tr>\n",
       "  </thead>\n",
       "  <tbody>\n",
       "    <tr>\n",
       "      <th>0</th>\n",
       "      <td>1</td>\n",
       "      <td>2019-04-01 00:02:10</td>\n",
       "      <td>4961</td>\n",
       "      <td>3412</td>\n",
       "      <td>81.51</td>\n",
       "      <td>130</td>\n",
       "      <td>0</td>\n",
       "      <td>0</td>\n",
       "      <td>0</td>\n",
       "    </tr>\n",
       "    <tr>\n",
       "      <th>1</th>\n",
       "      <td>2</td>\n",
       "      <td>2019-04-01 00:07:56</td>\n",
       "      <td>2</td>\n",
       "      <td>1365</td>\n",
       "      <td>146.00</td>\n",
       "      <td>476</td>\n",
       "      <td>0</td>\n",
       "      <td>0</td>\n",
       "      <td>0</td>\n",
       "    </tr>\n",
       "    <tr>\n",
       "      <th>2</th>\n",
       "      <td>3</td>\n",
       "      <td>2019-04-01 00:09:29</td>\n",
       "      <td>4128</td>\n",
       "      <td>8737</td>\n",
       "      <td>64.49</td>\n",
       "      <td>569</td>\n",
       "      <td>0</td>\n",
       "      <td>0</td>\n",
       "      <td>0</td>\n",
       "    </tr>\n",
       "    <tr>\n",
       "      <th>3</th>\n",
       "      <td>4</td>\n",
       "      <td>2019-04-01 00:10:34</td>\n",
       "      <td>927</td>\n",
       "      <td>9906</td>\n",
       "      <td>50.99</td>\n",
       "      <td>634</td>\n",
       "      <td>0</td>\n",
       "      <td>0</td>\n",
       "      <td>0</td>\n",
       "    </tr>\n",
       "    <tr>\n",
       "      <th>4</th>\n",
       "      <td>5</td>\n",
       "      <td>2019-04-01 00:10:45</td>\n",
       "      <td>568</td>\n",
       "      <td>8803</td>\n",
       "      <td>44.71</td>\n",
       "      <td>645</td>\n",
       "      <td>0</td>\n",
       "      <td>0</td>\n",
       "      <td>0</td>\n",
       "    </tr>\n",
       "  </tbody>\n",
       "</table>\n",
       "</div>"
      ],
      "text/plain": [
       "   TRANSACTION_ID         TX_DATETIME  CUSTOMER_ID  TERMINAL_ID  TX_AMOUNT  \\\n",
       "0               1 2019-04-01 00:02:10         4961         3412      81.51   \n",
       "1               2 2019-04-01 00:07:56            2         1365     146.00   \n",
       "2               3 2019-04-01 00:09:29         4128         8737      64.49   \n",
       "3               4 2019-04-01 00:10:34          927         9906      50.99   \n",
       "4               5 2019-04-01 00:10:45          568         8803      44.71   \n",
       "\n",
       "   TX_TIME_SECONDS  TX_TIME_DAYS  TX_FRAUD  TX_FRAUD_SCENARIO  \n",
       "0              130             0         0                  0  \n",
       "1              476             0         0                  0  \n",
       "2              569             0         0                  0  \n",
       "3              634             0         0                  0  \n",
       "4              645             0         0                  0  "
      ]
     },
     "execution_count": 3,
     "metadata": {},
     "output_type": "execute_result"
    }
   ],
   "source": [
    "from snowflake.ml.feature_store.examples.example_helper import ExampleHelper\n",
    "\n",
    "helper = ExampleHelper(session, FS_DEMO_DB, FS_DEMO_SCHEMA)\n",
    "source_table = helper.load_source_data('fraud_transactions')[0]\n",
    "print(f\"New source table: {source_table}.\")\n",
    "session.table(source_table).limit(5).to_pandas()"
   ]
  },
  {
   "cell_type": "code",
   "execution_count": 5,
   "id": "d26d7215-3845-4436-a4f7-486d48f7815b",
   "metadata": {
    "collapsed": false,
    "language": "python",
    "name": "create_table"
   },
   "outputs": [
    {
     "data": {
      "text/plain": [
       "872794"
      ]
     },
     "execution_count": 5,
     "metadata": {},
     "output_type": "execute_result"
    }
   ],
   "source": [
    "fraud_data_path = f\"{FS_DEMO_DB}.{FS_DEMO_SCHEMA}.CUSTOMER_TRANSACTIONS_FRAUD\"\n",
    "session.sql(f\"\"\"\n",
    "    CREATE OR REPLACE TABLE {fraud_data_path} AS\n",
    "    SELECT *\n",
    "    FROM {source_table}\n",
    "    WHERE TX_DATETIME < '2019-07-01'\n",
    "\"\"\").collect()\n",
    "session.table(fraud_data_path).count()"
   ]
  },
  {
   "cell_type": "markdown",
   "id": "2b6471b2-bcde-4470-89cf-8a6b1d7f3258",
   "metadata": {
    "collapsed": false,
    "name": "dbt_overview_md"
   },
   "source": [
    "## Define models in DBT\n",
    "Now let's switch to DBT IDE. Open the project you built as part of setup\n",
    "\n",
    "Three models will be built and output as Snowflake Dataframes. Feature Store will register these DataFrames and make them FeatureViews."
   ]
  },
  {
   "cell_type": "code",
   "execution_count": null,
   "id": "77d60dc3-bb36-4b19-8dfd-22a5f15ffb29",
   "metadata": {
    "codeCollapsed": false,
    "collapsed": false,
    "language": "python",
    "name": "dbt_overview_img"
   },
   "outputs": [],
   "source": [
    "import streamlit as st\n",
    "st.image(\"feature-store-with-dbt.png\")"
   ]
  },
  {
   "cell_type": "markdown",
   "id": "18fba209-f034-4fe3-b9d7-0daa8b7376c3",
   "metadata": {
    "collapsed": false,
    "name": "dbt_run_md"
   },
   "source": [
    "## Run models in DBT\n",
    "After we defined models, now we can run and generate our feature tables. Simple exeucte `dbt run` in the terminal and it will do all the work. You will get MFA notifications if you have setup a new user with MFA enabled."
   ]
  },
  {
   "cell_type": "code",
   "execution_count": null,
   "id": "45d69561-52ef-430b-9401-e188c9d126d0",
   "metadata": {
    "codeCollapsed": false,
    "collapsed": false,
    "language": "python",
    "name": "dbt_run_img"
   },
   "outputs": [],
   "source": [
    "st.image(\"dbt-run.png\")"
   ]
  },
  {
   "cell_type": "markdown",
   "id": "83d8259b-1449-40c2-87f7-d34c81d11903",
   "metadata": {
    "collapsed": false,
    "name": "view_output_md"
   },
   "source": [
    "After the run success, we will see feature tables are populated with values."
   ]
  },
  {
   "cell_type": "code",
   "execution_count": 6,
   "id": "da97a2f6-af82-4258-9ba5-9e1b3c13d70b",
   "metadata": {
    "codeCollapsed": false,
    "collapsed": false,
    "language": "python",
    "name": "view_output"
   },
   "outputs": [
    {
     "name": "stdout",
     "output_type": "stream",
     "text": [
      "-------------------------------------------------------------------------------------------------------------------------------------------------------------------------------------------------------------------------------------------------------------------\n",
      "|\"TRANSACTION_ID\"  |\"CUSTOMER_ID\"  |\"TERMINAL_ID\"  |\"TX_DATETIME\"        |\"EVENT_TIMESTAMP\"    |\"CT_DATETIME\"                     |\"TX_AMOUNT\"  |\"TX_TIME_SECONDS\"  |\"TX_TIME_DAYS\"  |\"TX_FRAUD\"  |\"TX_FRAUD_SCENARIO\"  |\"TX_DURING_WEEKEND\"  |\"TX_DURING_NIGHT\"  |\n",
      "-------------------------------------------------------------------------------------------------------------------------------------------------------------------------------------------------------------------------------------------------------------------\n",
      "|1                 |4961           |3412           |2019-04-01 00:02:10  |2019-04-01 00:02:10  |2024-07-19 14:28:36.956000-07:00  |81.51        |130                |0               |0           |0                    |0                    |1                  |\n",
      "|2                 |2              |1365           |2019-04-01 00:07:56  |2019-04-01 00:07:56  |2024-07-19 14:28:36.956000-07:00  |146.0        |476                |0               |0           |0                    |0                    |1                  |\n",
      "|3                 |4128           |8737           |2019-04-01 00:09:29  |2019-04-01 00:09:29  |2024-07-19 14:28:36.956000-07:00  |64.49        |569                |0               |0           |0                    |0                    |1                  |\n",
      "|4                 |927            |9906           |2019-04-01 00:10:34  |2019-04-01 00:10:34  |2024-07-19 14:28:36.956000-07:00  |50.99        |634                |0               |0           |0                    |0                    |1                  |\n",
      "|5                 |568            |8803           |2019-04-01 00:10:45  |2019-04-01 00:10:45  |2024-07-19 14:28:36.956000-07:00  |44.71        |645                |0               |0           |0                    |0                    |1                  |\n",
      "|6                 |2803           |5490           |2019-04-01 00:11:30  |2019-04-01 00:11:30  |2024-07-19 14:28:36.956000-07:00  |96.03        |690                |0               |0           |0                    |0                    |1                  |\n",
      "|7                 |4684           |2486           |2019-04-01 00:11:44  |2019-04-01 00:11:44  |2024-07-19 14:28:36.956000-07:00  |24.36        |704                |0               |0           |0                    |0                    |1                  |\n",
      "|8                 |4128           |8354           |2019-04-01 00:11:53  |2019-04-01 00:11:53  |2024-07-19 14:28:36.956000-07:00  |26.34        |713                |0               |0           |0                    |0                    |1                  |\n",
      "|9                 |541            |6212           |2019-04-01 00:13:44  |2019-04-01 00:13:44  |2024-07-19 14:28:36.956000-07:00  |59.07        |824                |0               |0           |0                    |0                    |1                  |\n",
      "|10                |4554           |2198           |2019-04-01 00:16:59  |2019-04-01 00:16:59  |2024-07-19 14:28:36.956000-07:00  |58.06        |1019               |0               |0           |0                    |0                    |1                  |\n",
      "-------------------------------------------------------------------------------------------------------------------------------------------------------------------------------------------------------------------------------------------------------------------\n",
      "\n"
     ]
    }
   ],
   "source": [
    "# replace 'transactions' with 'customers' or 'terminals' to show \n",
    "# respective table.\n",
    "table_schema = f\"{FS_DEMO_DB}.{FS_DEMO_SCHEMA}\"\n",
    "session.sql(f\"SELECT * FROM {table_schema}.transactions\").show()"
   ]
  },
  {
   "cell_type": "markdown",
   "id": "5c85ca3a-baf5-4fb1-a74a-d45a90182bb1",
   "metadata": {
    "collapsed": false,
    "name": "register_fv_md"
   },
   "source": [
    "## Register feature tables as Feature Views\n",
    "\n",
    "Now lets create Feature Views with Feature Store. Since DBT is responsible for executing the pipeline, the feature tables will be registered as external pipeline. Underlying, it creates views, instead of dynamic tables, from the feature tables.\n",
    "\n",
    "Replace below `default_warehouse` with your warehouse in your environment."
   ]
  },
  {
   "cell_type": "code",
   "execution_count": 7,
   "id": "1d04b1b8-dd0d-47a5-a980-3c3f34b276f8",
   "metadata": {
    "collapsed": false,
    "language": "python",
    "name": "create_feature_store"
   },
   "outputs": [],
   "source": [
    "from snowflake.ml.feature_store import (\n",
    "    FeatureStore,\n",
    "    FeatureView,\n",
    "    Entity,\n",
    "    CreationMode\n",
    ")\n",
    "\n",
    "fs = FeatureStore(\n",
    "    session=session, \n",
    "    database=FS_DEMO_DB, \n",
    "    name=FS_DEMO_SCHEMA, \n",
    "    default_warehouse=session.get_current_warehouse(),\n",
    "    creation_mode=CreationMode.CREATE_IF_NOT_EXIST,\n",
    ")"
   ]
  },
  {
   "cell_type": "markdown",
   "id": "be6784b7-b96e-4c0a-9b8e-44a48b3d5951",
   "metadata": {
    "collapsed": false,
    "name": "register_entities_md"
   },
   "source": [
    "Register entities for features."
   ]
  },
  {
   "cell_type": "code",
   "execution_count": 8,
   "id": "806ad73d-b0fc-48ea-b63d-0f9669828486",
   "metadata": {
    "collapsed": false,
    "language": "python",
    "name": "register_entities"
   },
   "outputs": [
    {
     "name": "stdout",
     "output_type": "stream",
     "text": [
      "----------------------------------------------------------\n",
      "|\"NAME\"       |\"JOIN_KEYS\"         |\"DESC\"  |\"OWNER\"     |\n",
      "----------------------------------------------------------\n",
      "|CUSTOMER     |[\"CUSTOMER_ID\"]     |        |REGTEST_RL  |\n",
      "|TERMINAL     |[\"TERMINAL_ID\"]     |        |REGTEST_RL  |\n",
      "|TRANSACTION  |[\"TRANSACTION_ID\"]  |        |REGTEST_RL  |\n",
      "----------------------------------------------------------\n",
      "\n"
     ]
    }
   ],
   "source": [
    "customer = Entity(name=\"CUSTOMER\", join_keys=[\"CUSTOMER_ID\"])\n",
    "terminal = Entity(name=\"TERMINAL\", join_keys=[\"TERMINAL_ID\"])\n",
    "transaction = Entity(name=\"TRANSACTION\", join_keys=[\"TRANSACTION_ID\"])\n",
    "fs.register_entity(customer)\n",
    "fs.register_entity(terminal)\n",
    "fs.register_entity(transaction)\n",
    "fs.list_entities().show()"
   ]
  },
  {
   "cell_type": "markdown",
   "id": "96f49f77-25cf-4c0c-a1d0-a04808a222a2",
   "metadata": {
    "name": "create_fv_md"
   },
   "source": [
    "Define feature views. `feature_df` is a dataframe object that selects from a subset of columns of feature tables. `refresh_freq` is None indicates it is static and won't be refreshed. Underlying it will create views on the feature tables."
   ]
  },
  {
   "cell_type": "code",
   "execution_count": 9,
   "id": "399984e1-a89c-486f-9370-fef9a8921c99",
   "metadata": {
    "collapsed": false,
    "language": "python",
    "name": "create_fv"
   },
   "outputs": [],
   "source": [
    "# terminal features\n",
    "terminals_df = session.sql(f\"\"\"\n",
    "    SELECT \n",
    "        TERMINAL_ID,\n",
    "        EVENT_TIMESTAMP,\n",
    "        TERM_RISK_1,\n",
    "        TERM_RISK_7,\n",
    "        TERM_RISK_30\n",
    "    FROM {FS_DEMO_DB}.{FS_DEMO_SCHEMA}.terminals\n",
    "    \"\"\")\n",
    "terminals_fv = FeatureView(\n",
    "    name=\"terminal_features\", \n",
    "    entities=[terminal],\n",
    "    feature_df=terminals_df,\n",
    "    timestamp_col=\"EVENT_TIMESTAMP\",\n",
    "    refresh_freq=None,\n",
    "    desc=\"A bunch of terminal related features\")\n",
    "\n",
    "# customer features\n",
    "customers_df = session.sql(f\"\"\"\n",
    "    SELECT \n",
    "        CUSTOMER_ID,\n",
    "        EVENT_TIMESTAMP,\n",
    "        CUST_AVG_AMOUNT_1,\n",
    "        CUST_AVG_AMOUNT_7,\n",
    "        CUST_AVG_AMOUNT_30\n",
    "    FROM {FS_DEMO_DB}.{FS_DEMO_SCHEMA}.customers\n",
    "    \"\"\")\n",
    "customers_fv = FeatureView(\n",
    "    name=\"customers_features\", \n",
    "    entities=[customer],\n",
    "    feature_df=customers_df,\n",
    "    timestamp_col=\"EVENT_TIMESTAMP\",\n",
    "    refresh_freq=None,\n",
    "    desc=\"A bunch of customer related features\")\n",
    "\n",
    "# transaction features\n",
    "transactions_df = session.sql(f\"\"\"\n",
    "    SELECT \n",
    "        TRANSACTION_ID, \n",
    "        EVENT_TIMESTAMP, \n",
    "        TX_AMOUNT,\n",
    "        TX_FRAUD\n",
    "    FROM {FS_DEMO_DB}.{FS_DEMO_SCHEMA}.transactions\n",
    "    \"\"\")\n",
    "transactions_fv = FeatureView(\n",
    "    name=\"transactions_features\", \n",
    "    entities=[transaction],\n",
    "    feature_df=transactions_df,\n",
    "    timestamp_col=\"EVENT_TIMESTAMP\",\n",
    "    refresh_freq=None,\n",
    "    desc=\"A bunch of transaction related features\")"
   ]
  },
  {
   "cell_type": "markdown",
   "id": "49df8d25-bba1-4fcf-9b80-df292d4d6cbf",
   "metadata": {
    "name": "register_views_md"
   },
   "source": [
    "Register these feature views in feature store so you can retrieve them back later even after notebook session is destroyed. "
   ]
  },
  {
   "cell_type": "code",
   "execution_count": 10,
   "id": "a7c18556-290b-418a-9dd8-b98b0e9acf8d",
   "metadata": {
    "collapsed": false,
    "language": "python",
    "name": "register_views"
   },
   "outputs": [],
   "source": [
    "terminals_fv = fs.register_feature_view(\n",
    "    feature_view=terminals_fv,\n",
    "    version=\"1\",\n",
    "    block=True)\n",
    "\n",
    "customers_fv = fs.register_feature_view(\n",
    "    feature_view=customers_fv,\n",
    "    version=\"1\",\n",
    "    block=True)\n",
    "\n",
    "transactions_fv = fs.register_feature_view(\n",
    "    feature_view=transactions_fv,\n",
    "    version=\"1\",\n",
    "    block=True)"
   ]
  },
  {
   "cell_type": "markdown",
   "id": "59befe8d-86a4-41f8-aeff-73d3756a2f48",
   "metadata": {
    "name": "list_views_md"
   },
   "source": [
    "Lets check whether feature views are reigstered successfully in feature store. You will see 3 registerd feature views."
   ]
  },
  {
   "cell_type": "code",
   "execution_count": 11,
   "id": "bdab88b1-2b92-41ac-88d1-c91d25f3155e",
   "metadata": {
    "collapsed": false,
    "language": "python",
    "name": "list_views"
   },
   "outputs": [
    {
     "data": {
      "text/html": [
       "<div>\n",
       "<style scoped>\n",
       "    .dataframe tbody tr th:only-of-type {\n",
       "        vertical-align: middle;\n",
       "    }\n",
       "\n",
       "    .dataframe tbody tr th {\n",
       "        vertical-align: top;\n",
       "    }\n",
       "\n",
       "    .dataframe thead th {\n",
       "        text-align: right;\n",
       "    }\n",
       "</style>\n",
       "<table border=\"1\" class=\"dataframe\">\n",
       "  <thead>\n",
       "    <tr style=\"text-align: right;\">\n",
       "      <th></th>\n",
       "      <th>NAME</th>\n",
       "      <th>VERSION</th>\n",
       "      <th>DATABASE_NAME</th>\n",
       "      <th>SCHEMA_NAME</th>\n",
       "      <th>CREATED_ON</th>\n",
       "      <th>OWNER</th>\n",
       "      <th>DESC</th>\n",
       "      <th>ENTITIES</th>\n",
       "      <th>REFRESH_FREQ</th>\n",
       "      <th>REFRESH_MODE</th>\n",
       "      <th>SCHEDULING_STATE</th>\n",
       "      <th>WAREHOUSE</th>\n",
       "    </tr>\n",
       "  </thead>\n",
       "  <tbody>\n",
       "    <tr>\n",
       "      <th>0</th>\n",
       "      <td>CUSTOMERS_FEATURES</td>\n",
       "      <td>1</td>\n",
       "      <td>SNOWML_FEATURE_STORE_DBT_DEMO</td>\n",
       "      <td>FS_DBT_DEMO</td>\n",
       "      <td>2024-07-19 14:30:04.939</td>\n",
       "      <td>REGTEST_RL</td>\n",
       "      <td>A bunch of customer related features</td>\n",
       "      <td>[\\n  \"CUSTOMER\"\\n]</td>\n",
       "      <td>None</td>\n",
       "      <td>None</td>\n",
       "      <td>None</td>\n",
       "      <td>None</td>\n",
       "    </tr>\n",
       "    <tr>\n",
       "      <th>1</th>\n",
       "      <td>TERMINAL_FEATURES</td>\n",
       "      <td>1</td>\n",
       "      <td>SNOWML_FEATURE_STORE_DBT_DEMO</td>\n",
       "      <td>FS_DBT_DEMO</td>\n",
       "      <td>2024-07-19 14:30:00.791</td>\n",
       "      <td>REGTEST_RL</td>\n",
       "      <td>A bunch of terminal related features</td>\n",
       "      <td>[\\n  \"TERMINAL\"\\n]</td>\n",
       "      <td>None</td>\n",
       "      <td>None</td>\n",
       "      <td>None</td>\n",
       "      <td>None</td>\n",
       "    </tr>\n",
       "    <tr>\n",
       "      <th>2</th>\n",
       "      <td>TRANSACTIONS_FEATURES</td>\n",
       "      <td>1</td>\n",
       "      <td>SNOWML_FEATURE_STORE_DBT_DEMO</td>\n",
       "      <td>FS_DBT_DEMO</td>\n",
       "      <td>2024-07-19 14:30:08.696</td>\n",
       "      <td>REGTEST_RL</td>\n",
       "      <td>A bunch of transaction related features</td>\n",
       "      <td>[\\n  \"TRANSACTION\"\\n]</td>\n",
       "      <td>None</td>\n",
       "      <td>None</td>\n",
       "      <td>None</td>\n",
       "      <td>None</td>\n",
       "    </tr>\n",
       "  </tbody>\n",
       "</table>\n",
       "</div>"
      ],
      "text/plain": [
       "                    NAME VERSION                  DATABASE_NAME  SCHEMA_NAME  \\\n",
       "0     CUSTOMERS_FEATURES       1  SNOWML_FEATURE_STORE_DBT_DEMO  FS_DBT_DEMO   \n",
       "1      TERMINAL_FEATURES       1  SNOWML_FEATURE_STORE_DBT_DEMO  FS_DBT_DEMO   \n",
       "2  TRANSACTIONS_FEATURES       1  SNOWML_FEATURE_STORE_DBT_DEMO  FS_DBT_DEMO   \n",
       "\n",
       "               CREATED_ON       OWNER  \\\n",
       "0 2024-07-19 14:30:04.939  REGTEST_RL   \n",
       "1 2024-07-19 14:30:00.791  REGTEST_RL   \n",
       "2 2024-07-19 14:30:08.696  REGTEST_RL   \n",
       "\n",
       "                                      DESC               ENTITIES  \\\n",
       "0     A bunch of customer related features     [\\n  \"CUSTOMER\"\\n]   \n",
       "1     A bunch of terminal related features     [\\n  \"TERMINAL\"\\n]   \n",
       "2  A bunch of transaction related features  [\\n  \"TRANSACTION\"\\n]   \n",
       "\n",
       "  REFRESH_FREQ REFRESH_MODE SCHEDULING_STATE WAREHOUSE  \n",
       "0         None         None             None      None  \n",
       "1         None         None             None      None  \n",
       "2         None         None             None      None  "
      ]
     },
     "execution_count": 11,
     "metadata": {},
     "output_type": "execute_result"
    }
   ],
   "source": [
    "# display as pandas dataframe\n",
    "fs.list_feature_views().to_pandas()"
   ]
  },
  {
   "cell_type": "markdown",
   "id": "0f96f221-274d-4a0e-8e46-72748e1f7a92",
   "metadata": {
    "name": "generate_datasets_md"
   },
   "source": [
    "## Generate training dataset with point-in-time correctness\n",
    "We can now generate training dataset with feature views. Firstly, we create a mock spine dataframe which has 3 columns: instance_id, customer_id and event_timestamp. Note the event_timestamp of 3 rows are same: \"2019-09-01 00:00:00.000\". Later, we will update the source table (`CUSTOMER_TRANSACTIONS_FRAUD`) and feature tables with newer events. We will still use this `spine_df` with same timestamp to generate dataset but it is expected to output a different training data. The new training data will join spine_df with latest feature values from newer events. "
   ]
  },
  {
   "cell_type": "code",
   "execution_count": 12,
   "id": "6d04c095-0702-4fe5-905d-fb8e576710a5",
   "metadata": {
    "collapsed": false,
    "language": "python",
    "name": "generate_datasets"
   },
   "outputs": [],
   "source": [
    "spine_df = session.create_dataframe(\n",
    "    [\n",
    "        (1, 2443, \"2019-09-01 00:00:00.000\"), \n",
    "        (2, 1889, \"2019-09-01 00:00:00.000\"),\n",
    "        (3, 1309, \"2019-09-01 00:00:00.000\")\n",
    "    ], \n",
    "    schema=[\"INSTANCE_ID\", \"CUSTOMER_ID\", \"EVENT_TIMESTAMP\"])\n",
    "\n",
    "my_dataset = fs.generate_dataset(\n",
    "    name=\"my_training_dataset_from_dbt\",\n",
    "    version=\"1_0\",\n",
    "    spine_df=spine_df,\n",
    "    features=[customers_fv],\n",
    "    spine_timestamp_col=\"EVENT_TIMESTAMP\",\n",
    "    spine_label_cols = []\n",
    ")"
   ]
  },
  {
   "cell_type": "markdown",
   "id": "7428960d-9e59-46e6-addd-bcc585f3f8bf",
   "metadata": {
    "name": "view_dataframe_md"
   },
   "source": [
    "We can convert dataset to snowpark dataframe and examine feature values."
   ]
  },
  {
   "cell_type": "code",
   "execution_count": 13,
   "id": "bbadca7a-b1f8-4bd2-b907-153a3fb576a7",
   "metadata": {
    "collapsed": false,
    "language": "python",
    "name": "view_dataframe"
   },
   "outputs": [
    {
     "name": "stdout",
     "output_type": "stream",
     "text": [
      "------------------------------------------------------------------------------------------------------------------------------\n",
      "|\"INSTANCE_ID\"  |\"CUSTOMER_ID\"  |\"EVENT_TIMESTAMP\"        |\"CUST_AVG_AMOUNT_1\"  |\"CUST_AVG_AMOUNT_7\"  |\"CUST_AVG_AMOUNT_30\"  |\n",
      "------------------------------------------------------------------------------------------------------------------------------\n",
      "|2              |1889           |2019-09-01 00:00:00.000  |112.26750183105469   |102.57643127441406   |101.19486236572266    |\n",
      "|1              |2443           |2019-09-01 00:00:00.000  |61.54777908325195    |88.3499984741211     |96.53591918945312     |\n",
      "|3              |1309           |2019-09-01 00:00:00.000  |38.52000045776367    |81.85333251953125    |93.1205062866211      |\n",
      "------------------------------------------------------------------------------------------------------------------------------\n",
      "\n"
     ]
    }
   ],
   "source": [
    "training_data_df = my_dataset.read.to_snowpark_dataframe()\n",
    "training_data_df.show()"
   ]
  },
  {
   "cell_type": "markdown",
   "id": "b0a7eab2-493b-44a4-ae5c-08bd25daa93a",
   "metadata": {
    "name": "update_features_md"
   },
   "source": [
    "## Update features from DBT\n",
    "Now we are injecting newer events into source, then refresh the pipeline and generate new feature values. We firstly check how many rows the source table currently has."
   ]
  },
  {
   "cell_type": "code",
   "execution_count": 14,
   "id": "f62a45b2-b966-4230-959f-206e54202599",
   "metadata": {
    "collapsed": false,
    "language": "python",
    "name": "table_count"
   },
   "outputs": [
    {
     "data": {
      "text/plain": [
       "872794"
      ]
     },
     "execution_count": 14,
     "metadata": {},
     "output_type": "execute_result"
    }
   ],
   "source": [
    "session.table(fraud_data_path).count()"
   ]
  },
  {
   "cell_type": "markdown",
   "id": "5256584e-4048-4d1c-930d-7cb312b36e4d",
   "metadata": {
    "name": "add_rows_md"
   },
   "source": [
    "We inject new events with timestamp later than '2019-07-01'. Then check how many rows in the source table after the injection."
   ]
  },
  {
   "cell_type": "code",
   "execution_count": 15,
   "id": "5494dd0a-dce3-40c2-8810-6aa1a8d7f31b",
   "metadata": {
    "collapsed": false,
    "language": "python",
    "name": "add_rows"
   },
   "outputs": [
    {
     "data": {
      "text/plain": [
       "1466281"
      ]
     },
     "execution_count": 15,
     "metadata": {},
     "output_type": "execute_result"
    }
   ],
   "source": [
    "session.sql(f\"\"\"\n",
    "    INSERT INTO {fraud_data_path}\n",
    "    SELECT *\n",
    "    FROM {source_table}\n",
    "    WHERE TX_DATETIME >= '2019-07-01'\n",
    "\"\"\").collect()\n",
    "session.table(fraud_data_path).count()"
   ]
  },
  {
   "cell_type": "markdown",
   "id": "3df454f3-590f-4547-8051-5eb053b18d2b",
   "metadata": {
    "collapsed": false,
    "name": "rerun_dbt_md"
   },
   "source": [
    "Go back to DBT IDE and run the pipelines again."
   ]
  },
  {
   "cell_type": "markdown",
   "id": "810025ca-7d9d-4e99-b9af-1643d0647c29",
   "metadata": {
    "name": "rebuild_dataset_md"
   },
   "source": [
    "## Generate new training dataset\n",
    "We don't need to update feature views because the underlying tables are updated by DBT. We only need to generate dataset again with same timestamp and it will join with newer feature values."
   ]
  },
  {
   "cell_type": "code",
   "execution_count": 16,
   "id": "69299109-9cd9-433d-b38c-c980af589765",
   "metadata": {
    "collapsed": false,
    "language": "python",
    "name": "rebuild_dataset"
   },
   "outputs": [
    {
     "name": "stdout",
     "output_type": "stream",
     "text": [
      "------------------------------------------------------------------------------------------------------------------------------\n",
      "|\"INSTANCE_ID\"  |\"CUSTOMER_ID\"  |\"EVENT_TIMESTAMP\"        |\"CUST_AVG_AMOUNT_1\"  |\"CUST_AVG_AMOUNT_7\"  |\"CUST_AVG_AMOUNT_30\"  |\n",
      "------------------------------------------------------------------------------------------------------------------------------\n",
      "|3              |1309           |2019-09-01 00:00:00.000  |38.52000045776367    |81.85333251953125    |93.1205062866211      |\n",
      "|2              |1889           |2019-09-01 00:00:00.000  |112.26750183105469   |102.57643127441406   |101.19486236572266    |\n",
      "|1              |2443           |2019-09-01 00:00:00.000  |61.54777908325195    |88.3499984741211     |96.53591918945312     |\n",
      "------------------------------------------------------------------------------------------------------------------------------\n",
      "\n"
     ]
    }
   ],
   "source": [
    "new_dataset = fs.generate_dataset(\n",
    "    name=\"my_training_dataset_from_dbt\",\n",
    "    version=\"2_0\",\n",
    "    spine_df=spine_df,\n",
    "    features=[customers_fv],\n",
    "    spine_timestamp_col=\"EVENT_TIMESTAMP\",\n",
    "    spine_label_cols = [],\n",
    ")\n",
    "\n",
    "new_training_data_df = new_dataset.read.to_snowpark_dataframe()\n",
    "new_training_data_df.show()"
   ]
  }
 ],
 "metadata": {
  "kernelspec": {
   "display_name": "Python 3 (ipykernel)",
   "language": "python",
   "name": "python3"
  },
  "language_info": {
   "codemirror_mode": {
    "name": "ipython",
    "version": 3
   },
   "file_extension": ".py",
   "mimetype": "text/x-python",
   "name": "python",
   "nbconvert_exporter": "python",
   "pygments_lexer": "ipython3",
   "version": "3.8.19"
  }
 },
 "nbformat": 4,
 "nbformat_minor": 5
}
